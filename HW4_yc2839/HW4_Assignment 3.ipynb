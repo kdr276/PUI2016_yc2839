{
 "cells": [
  {
   "cell_type": "markdown",
   "metadata": {},
   "source": [
    "## Assignment 3 : Reproduce & Analysis \n",
    "### Literature source from \" What Strategies Works for the Hard-to-Employ? (OPER Report 2012-08 )\""
   ]
  },
  {
   "cell_type": "code",
   "execution_count": 6,
   "metadata": {
    "collapsed": false
   },
   "outputs": [
    {
     "name": "stdout",
     "output_type": "stream",
     "text": [
      "Populating the interactive namespace from numpy and matplotlib\n"
     ]
    }
   ],
   "source": [
    "import os\n",
    "import sys\n",
    "import numpy as np\n",
    "import pylab as pl\n",
    "import json\n",
    "%pylab inline"
   ]
  },
  {
   "cell_type": "code",
   "execution_count": 16,
   "metadata": {
    "collapsed": true
   },
   "outputs": [],
   "source": [
    "# Cell 2 \"former prisoners employed after ...\" Z test practice"
   ]
  },
  {
   "cell_type": "markdown",
   "metadata": {},
   "source": [
    "## Null hypothesis : the % of former prisoners employed after release is the equal to or lower for candidates who participated in the program (P0) as for the control group (P1)"
   ]
  },
  {
   "cell_type": "markdown",
   "metadata": {},
   "source": [
    "## Alternative hypothesis: the % of former prisoners employed after release is higher for candidates who participated in the program (P0) as for the control group (P1)"
   ]
  },
  {
   "cell_type": "markdown",
   "metadata": {},
   "source": [
    "## $H_0$ : $P_0 - P_1 <= 0$\n",
    "## $H_A$ : $P_0 - P_1 > 0$\n",
    "## $\\alpha = 0.05$"
   ]
  },
  {
   "cell_type": "code",
   "execution_count": 172,
   "metadata": {
    "collapsed": false
   },
   "outputs": [
    {
     "name": "stdout",
     "output_type": "stream",
     "text": [
      "We need assess the statistical significance\n"
     ]
    }
   ],
   "source": [
    "# According to Table 2.1, we figure out that the percentages of employment between program group and control group differed\n",
    "P0 = 70.1 / 100\n",
    "P1 = 3.5 / 100\n",
    "\n",
    "# P0 is the proportion of employed within the Program gruop, P1 is the proportion of employed within the Control group\n",
    "if P0 -P1 <= 0:\n",
    "    print (\"We failed to reject the Null Hypothesis\")\n",
    "else: \n",
    "    print (\"We need assess the statistical significance\")\n"
   ]
  },
  {
   "cell_type": "code",
   "execution_count": 88,
   "metadata": {
    "collapsed": false
   },
   "outputs": [
    {
     "name": "stdout",
     "output_type": "stream",
     "text": [
      "0.421047276465\n"
     ]
    }
   ],
   "source": [
    "# get overall sample proportion sp\n",
    "N0 = 564.\n",
    "N1 = 409.\n",
    "sp = (P0 * N0 + P1 * N1) / (N0 + N1)\n",
    "print (sp)\n",
    "\n",
    "# N0 is the program group sample size, N1 is the control group sample size, \n"
   ]
  },
  {
   "cell_type": "code",
   "execution_count": 89,
   "metadata": {
    "collapsed": false
   },
   "outputs": [
    {
     "name": "stdout",
     "output_type": "stream",
     "text": [
      "7.60206831032\n"
     ]
    }
   ],
   "source": [
    "# since we are comparing between two samples, we use the SE equation for 2 samples \n",
    "# SE = sqrt (sp * (1-sp) / (1.0/N0 + 1.0/N1))\n",
    "# print (SE)"
   ]
  },
  {
   "cell_type": "code",
   "execution_count": 114,
   "metadata": {
    "collapsed": true
   },
   "outputs": [],
   "source": [
    "# To get the outcome...\n",
    "sp = lambda P0, P1, N0, N1: (P0 * N0 + P1 * N1) / (N0 + N1)\n",
    "SE = lambda sp, N0, N1: np.sqrt(sp * (1 - sp) * (1.0 / N0 + 1.0 / N1)) "
   ]
  },
  {
   "cell_type": "code",
   "execution_count": 119,
   "metadata": {
    "collapsed": false,
    "scrolled": true
   },
   "outputs": [
    {
     "name": "stdout",
     "output_type": "stream",
     "text": [
      "20.7697865408\n"
     ]
    }
   ],
   "source": [
    "#SD = SE* (P0 * (1 - P0) / N0) + ( P1* (1 - P1) / N1)\n",
    "#print (SD)\n",
    "\n",
    "zscore = lambda P0, P1, SD : (P0 - P1) / SD\n",
    "z_2y = zscore(P0, P1,SE(sp(P0, P1, N0, N1), N0, N1))\n",
    "print (z_2y)\n",
    "# I just don't get why if I put 'z_2y'=  zscore (P0, P1, SE) it keeps giving another answer around 0.08...?"
   ]
  },
  {
   "cell_type": "code",
   "execution_count": 117,
   "metadata": {
    "collapsed": false
   },
   "outputs": [],
   "source": [
    "#zscore = (P0-P1) / SD\n",
    "#print (zscore)"
   ]
  },
  {
   "cell_type": "code",
   "execution_count": 120,
   "metadata": {
    "collapsed": false,
    "scrolled": true
   },
   "outputs": [
    {
     "name": "stdout",
     "output_type": "stream",
     "text": [
      "0.0002\n"
     ]
    }
   ],
   "source": [
    "# this is a one-tailed test, we find when z = 0.088, it gives us a possiblity vaule around 0.4641\n",
    "p_vaule = 1- 0.9998\n",
    "print (p_vaule)"
   ]
  },
  {
   "cell_type": "code",
   "execution_count": 137,
   "metadata": {
    "collapsed": false
   },
   "outputs": [
    {
     "name": "stdout",
     "output_type": "stream",
     "text": [
      "Is the p value 0.00 smaller than the critical value 0.05?\n",
      "YES! Therefore the Null hypothesis is rejected\n"
     ]
    }
   ],
   "source": [
    "alpha = 0.05\n",
    "p_2y = 1 - 0.9998\n",
    "def report_result(p,a):\n",
    "    print ('Is the p value ' + '{0:.2f} smaller than the critical value {1:.2f}?'.format(p,a))\n",
    "    if p < a:\n",
    "        print (\"YES!\" ' Therefore the Null hypothesis is {}'.format( 'rejected' if p < a  else 'not rejected'))\n",
    "    else: \n",
    "        print (\"NO!\")\n",
    "    \n",
    "    \n",
    "report_result(p_2y, alpha)    "
   ]
  },
  {
   "cell_type": "markdown",
   "metadata": {},
   "source": [
    "### Conclusion: since p vaule ( = 0.0002 ) < $ \\alpha $ ( = 0.05 ), we reject the null hypothesis"
   ]
  },
  {
   "cell_type": "code",
   "execution_count": 39,
   "metadata": {
    "collapsed": true
   },
   "outputs": [],
   "source": [
    "# Cell 10 \"Convicted of a felony\" z-test practice"
   ]
  },
  {
   "cell_type": "markdown",
   "metadata": {},
   "source": [
    "## Null hypothesis : the % of former prisoners ever convicted of a felony after release is higher or equal for candidates who participated in the program (P0) as for the control group (P1)"
   ]
  },
  {
   "cell_type": "markdown",
   "metadata": {},
   "source": [
    "## Alternative hypothesis: the % of former prisoners ever convicted of a felony after release is samller for candidates who participated in the program (P0) as for the control group (P1)"
   ]
  },
  {
   "cell_type": "markdown",
   "metadata": {},
   "source": [
    "## H0 : P0 - P1 >= 0\n",
    "## HA : P0 - P1 < 0\n",
    "## $\\alpha = 0.05$"
   ]
  },
  {
   "cell_type": "code",
   "execution_count": 138,
   "metadata": {
    "collapsed": false
   },
   "outputs": [
    {
     "name": "stdout",
     "output_type": "stream",
     "text": [
      "We need assess the statistical significance\n"
     ]
    }
   ],
   "source": [
    "P0 = 10.0 / 100\n",
    "P1 = 11.7 / 100\n",
    "\n",
    "# P0 is the proportion of recidivism within the Program gruop, P1 is the proportion of recidivism within the Control group\n",
    "if P0 -P1 >= 0:\n",
    "    print (\"We failed to reject the Null Hypothesis\")\n",
    "else: \n",
    "    print (\"We need assess the statistical significance\")\n"
   ]
  },
  {
   "cell_type": "code",
   "execution_count": 139,
   "metadata": {
    "collapsed": false
   },
   "outputs": [
    {
     "name": "stdout",
     "output_type": "stream",
     "text": [
      "0.107116683726\n"
     ]
    }
   ],
   "source": [
    "# N0 is the program group sample size, N1 is the control group sample size \n",
    "N0 = 568.\n",
    "N1 = 409.\n",
    "sp = (P0 * N0 + P1 * N1) / (N0 + N1)\n",
    "print (sp)"
   ]
  },
  {
   "cell_type": "code",
   "execution_count": 140,
   "metadata": {
    "collapsed": false
   },
   "outputs": [
    {
     "name": "stdout",
     "output_type": "stream",
     "text": [
      "4.76885868709\n"
     ]
    }
   ],
   "source": [
    "# since we are comparing between two samples, we use the SE equation for 2 samples and here is standard error \n",
    "SE = sqrt (sp * (1-sp) / (1/N0 + 1/N1))\n",
    "print (SE)"
   ]
  },
  {
   "cell_type": "code",
   "execution_count": 141,
   "metadata": {
    "collapsed": false
   },
   "outputs": [],
   "source": [
    "sp = lambda P0, P1, N0, N1: (P0 * N0 + P1 * N1) / (N0 + N1)\n",
    "SE = lambda sp, N0, N1: np.sqrt(sp * (1 - sp) * (1.0 / N0 + 1.0 / N1))"
   ]
  },
  {
   "cell_type": "code",
   "execution_count": 142,
   "metadata": {
    "collapsed": false
   },
   "outputs": [
    {
     "name": "stdout",
     "output_type": "stream",
     "text": [
      "-0.84764020522\n"
     ]
    }
   ],
   "source": [
    "zscore = lambda P0, P1, SD : (P0 - P1) / SD\n",
    "z_3y = zscore(P0, P1,SE(sp(P0, P1, N0, N1), N0, N1))\n",
    "print (z_3y)"
   ]
  },
  {
   "cell_type": "code",
   "execution_count": 148,
   "metadata": {
    "collapsed": false
   },
   "outputs": [
    {
     "name": "stdout",
     "output_type": "stream",
     "text": [
      "0.8023\n"
     ]
    }
   ],
   "source": [
    "p_vaule = 1- 0.1977\n",
    "print (p_vaule)"
   ]
  },
  {
   "cell_type": "markdown",
   "metadata": {},
   "source": [
    "### According to the z-table, a vaule of '-0.85' would give us a z-score around 0.1977..."
   ]
  },
  {
   "cell_type": "code",
   "execution_count": 147,
   "metadata": {
    "collapsed": false
   },
   "outputs": [
    {
     "name": "stdout",
     "output_type": "stream",
     "text": [
      "Is the p value 0.80 smaller than the critical value 0.05?\n",
      "NO! Therefore the Null hypothesis is not rejected\n"
     ]
    }
   ],
   "source": [
    "alpha = 0.05\n",
    "p_3y = 1 - 0.1977\n",
    "def report_result(p,a):\n",
    "    print ('Is the p value ' + '{0:.2f} smaller than the critical value {1:.2f}?'.format(p,a))\n",
    "    if p < a:\n",
    "        print (\"YES!\" ' Therefore the Null hypothesis is {}'.format( 'rejected' if p < a  else 'not rejected'))\n",
    "    else: \n",
    "        print (\"NO!\"' Therefore the Null hypothesis is not rejected')\n",
    "    \n",
    "    \n",
    "report_result(p_3y, alpha)   "
   ]
  },
  {
   "cell_type": "markdown",
   "metadata": {},
   "source": [
    "### Conclusion: since p vaule ( = 0.8023 ) > $ \\alpha $ ( = 0.05 ), we can not reject the null hypothesis"
   ]
  },
  {
   "cell_type": "code",
   "execution_count": 162,
   "metadata": {
    "collapsed": true
   },
   "outputs": [],
   "source": [
    "# Cell 10 \"Convicted of a felony...\" chi-squared practice"
   ]
  },
  {
   "cell_type": "markdown",
   "metadata": {},
   "source": [
    "## Now lets do it with the $\\chi^2$ test"
   ]
  },
  {
   "cell_type": "code",
   "execution_count": 176,
   "metadata": {
    "collapsed": false
   },
   "outputs": [
    {
     "name": "stdout",
     "output_type": "stream",
     "text": [
      "799.332239579\n"
     ]
    }
   ],
   "source": [
    "# Ntot = 977 # a + b + c + d = tot\n",
    "\n",
    "# sample_values = np.array([[0.100 * 568, 0.900 * 568], [0.117 * 409, 0.883 * 409]])\n",
    "# print (evalChisq(sample_values))"
   ]
  },
  {
   "cell_type": "markdown",
   "metadata": {},
   "source": [
    "|Convicted of A Felony|Yes|No|Total\n",
    "|:---:|:---:|:---:|:---:|\n",
    "|Program Group Sample|0.100*568|0.900*568|568\n",
    "|Control Group Sample|0.117*409|0.883*409|409\n",
    "|Total|104.653|872.347|977"
   ]
  },
  {
   "cell_type": "markdown",
   "metadata": {},
   "source": [
    "### H0 Convited of a felony is independent of the program.\n",
    "### HA Convited of a felony is associated with the program.\n",
    "### alpha = 0.05"
   ]
  },
  {
   "cell_type": "markdown",
   "metadata": {},
   "source": [
    "|O|E|O-E|(O-E)$2$|(O-E)$2$/E|\n",
    "|:---:|:---:|:---:|:---:|:---:|\n",
    "|56.8|60.842|-4.042|16.338|0.269|\n",
    "|47.853|43.811|4.042|16.338|0.373|\n",
    "|511.2|507.158|4.042|16.338|0.032|\n",
    "|361.147|365.189|-4.042|16.338|0.045|"
   ]
  },
  {
   "cell_type": "markdown",
   "metadata": {},
   "source": [
    "## X2 = 0.269 + 0.373 + 0.032 + 0.045 = 0.719"
   ]
  },
  {
   "cell_type": "markdown",
   "metadata": {},
   "source": [
    "### DF = (r - 1) * (c - 1) , therefore the DF = 1"
   ]
  },
  {
   "cell_type": "markdown",
   "metadata": {},
   "source": [
    "## By looking at the chi-square table with DF = 1 at alpha = 0.05 ,the test result (0.719) is much smaller than 3.84, so we can not reject the Null Hypothesis."
   ]
  },
  {
   "cell_type": "code",
   "execution_count": null,
   "metadata": {
    "collapsed": true
   },
   "outputs": [],
   "source": []
  },
  {
   "cell_type": "code",
   "execution_count": null,
   "metadata": {
    "collapsed": true
   },
   "outputs": [],
   "source": []
  }
 ],
 "metadata": {
  "anaconda-cloud": {},
  "kernelspec": {
   "display_name": "Python [Root]",
   "language": "python",
   "name": "Python [Root]"
  },
  "language_info": {
   "codemirror_mode": {
    "name": "ipython",
    "version": 2
   },
   "file_extension": ".py",
   "mimetype": "text/x-python",
   "name": "python",
   "nbconvert_exporter": "python",
   "pygments_lexer": "ipython2",
   "version": "2.7.12"
  }
 },
 "nbformat": 4,
 "nbformat_minor": 0
}
